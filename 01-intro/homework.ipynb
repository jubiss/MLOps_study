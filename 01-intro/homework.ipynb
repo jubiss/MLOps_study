{
 "cells": [
  {
   "cell_type": "code",
   "execution_count": 2,
   "metadata": {},
   "outputs": [
    {
     "ename": "",
     "evalue": "",
     "output_type": "error",
     "traceback": [
      "\u001b[1;31mThe Kernel crashed while executing code in the current cell or a previous cell. \n",
      "\u001b[1;31mPlease review the code in the cell(s) to identify a possible cause of the failure. \n",
      "\u001b[1;31mClick <a href='https://aka.ms/vscodeJupyterKernelCrash'>here</a> for more info. \n",
      "\u001b[1;31mView Jupyter <a href='command:jupyter.viewOutput'>log</a> for further details."
     ]
    }
   ],
   "source": [
    "import pandas as pd\n",
    "import seaborn as sns\n",
    "import matplotlib.pyplot as plt\n",
    "from sklearn.feature_extraction import DictVectorizer\n",
    "from sklearn.linear_model import LinearRegression, Lasso\n",
    "from sklearn.metrics import mean_squared_error\n",
    "\n",
    "def pre_process_data(dataframe):\n",
    "    dataframe['duration'] = dataframe['tpep_dropoff_datetime'] - dataframe['tpep_pickup_datetime']\n",
    "    dataframe['duration'] = (dataframe['duration'].dt.total_seconds()/60).round(2)\n",
    "    # print(dataframe.duration.describe(percentiles=[0.95, 0.99]))\n",
    "    dataframe = dataframe.query(\"(duration > 1) and (duration < 60)\")\n",
    "    categorical = ['PULocationID', 'DOLocationID']\n",
    "    dataframe[categorical] = dataframe[categorical].astype(str)\n",
    "    dataframe['PU_DO'] = dataframe['PULocationID'] + '_' + dataframe['DOLocationID']\n",
    "    return dataframe"
   ]
  },
  {
   "cell_type": "code",
   "execution_count": 3,
   "metadata": {},
   "outputs": [
    {
     "name": "stderr",
     "output_type": "stream",
     "text": [
      "/tmp/ipykernel_38202/1398174493.py:14: SettingWithCopyWarning: \n",
      "A value is trying to be set on a copy of a slice from a DataFrame.\n",
      "Try using .loc[row_indexer,col_indexer] = value instead\n",
      "\n",
      "See the caveats in the documentation: https://pandas.pydata.org/pandas-docs/stable/user_guide/indexing.html#returning-a-view-versus-a-copy\n",
      "  dataframe[categorical] = dataframe[categorical].astype(str)\n",
      "/tmp/ipykernel_38202/1398174493.py:15: SettingWithCopyWarning: \n",
      "A value is trying to be set on a copy of a slice from a DataFrame.\n",
      "Try using .loc[row_indexer,col_indexer] = value instead\n",
      "\n",
      "See the caveats in the documentation: https://pandas.pydata.org/pandas-docs/stable/user_guide/indexing.html#returning-a-view-versus-a-copy\n",
      "  dataframe['PU_DO'] = dataframe['PULocationID'] + '_' + dataframe['DOLocationID']\n",
      "/tmp/ipykernel_38202/1398174493.py:14: SettingWithCopyWarning: \n",
      "A value is trying to be set on a copy of a slice from a DataFrame.\n",
      "Try using .loc[row_indexer,col_indexer] = value instead\n",
      "\n",
      "See the caveats in the documentation: https://pandas.pydata.org/pandas-docs/stable/user_guide/indexing.html#returning-a-view-versus-a-copy\n",
      "  dataframe[categorical] = dataframe[categorical].astype(str)\n",
      "/tmp/ipykernel_38202/1398174493.py:15: SettingWithCopyWarning: \n",
      "A value is trying to be set on a copy of a slice from a DataFrame.\n",
      "Try using .loc[row_indexer,col_indexer] = value instead\n",
      "\n",
      "See the caveats in the documentation: https://pandas.pydata.org/pandas-docs/stable/user_guide/indexing.html#returning-a-view-versus-a-copy\n",
      "  dataframe['PU_DO'] = dataframe['PULocationID'] + '_' + dataframe['DOLocationID']\n"
     ]
    }
   ],
   "source": [
    "train = pd.read_parquet('https://d37ci6vzurychx.cloudfront.net/trip-data/yellow_tripdata_2024-01.parquet')\n",
    "test = pd.read_parquet('https://d37ci6vzurychx.cloudfront.net/trip-data/yellow_tripdata_2024-02.parquet')\n",
    "\n",
    "train = pre_process_data(train)\n",
    "test = pre_process_data(test)\n",
    "\n",
    "categorical = ['PULocationID', 'DOLocationID']\n",
    "numerical = ['trip_distance']\n",
    "model_used = 'linear_regression'\n",
    "dv = DictVectorizer()\n",
    "\n",
    "train_dicts = train[categorical + numerical].to_dict(orient='records')\n",
    "X_train = dv.fit_transform(train_dicts)\n",
    "\n",
    "test_dicts = test[categorical + numerical].to_dict(orient='records')\n",
    "X_test = dv.transform(test_dicts)\n",
    "\n",
    "target = 'duration'\n",
    "y_train = train[target].values\n",
    "y_test = test[target].values\n",
    "\n",
    "\n",
    "def eval_model(model_used, X_train, y_train, y_val):\n",
    "    if model_used == 'linear_regression':\n",
    "        model = LinearRegression()\n",
    "    elif model_used == 'lasso':\n",
    "        model = Lasso()\n",
    "    model.fit(X_train, y_train)\n",
    "    predict = model_used.predict(X_train)\n",
    "    msqre = mean_squared_error(y_val, predict, squared=False)\n",
    "    print(msqre)\n",
    "    return model, msqre\n",
    "\n",
    "linear_regression_model, linear_regression_msqre = eval_model(model_used='linear_regression', X_train=X_train, y_train=y_train, y_val=y_test)\n",
    "lasso_model, lasso_msqre = eval_model(model_used='lasso', X_train=X_train, y_train=y_train, y_val=y_test)"
   ]
  },
  {
   "cell_type": "code",
   "execution_count": 8,
   "metadata": {},
   "outputs": [
    {
     "data": {
      "image/png": "[encoded data removed]",
      "text/plain": [
       "<Figure size 640x480 with 1 Axes>"
      ]
     },
     "metadata": {},
     "output_type": "display_data"
    }
   ],
   "source": [
    "sns.histplot(y_pred, label='prediction')\n",
    "sns.histplot(y_train, label='actual')\n",
    "plt.show()"
   ]
  },
  {
   "cell_type": "code",
   "execution_count": 7,
   "metadata": {},
   "outputs": [
    {
     "name": "stderr",
     "output_type": "stream",
     "text": [
      "/home/codespace/.local/lib/python3.10/site-packages/sklearn/metrics/_regression.py:492: FutureWarning: 'squared' is deprecated in version 1.4 and will be removed in 1.6. To calculate the root mean squared error, use the function'root_mean_squared_error'.\n",
      "  warnings.warn(\n"
     ]
    },
    {
     "data": {
      "text/plain": [
       "np.float64(7.9496187672102305)"
      ]
     },
     "execution_count": 7,
     "metadata": {},
     "output_type": "execute_result"
    }
   ],
   "source": []
  },
  {
   "cell_type": "code",
   "execution_count": null,
   "metadata": {},
   "outputs": [],
   "source": []
  }
 ],
 "metadata": {
  "kernelspec": {
   "display_name": "Python 3",
   "language": "python",
   "name": "python3"
  },
  "language_info": {
   "codemirror_mode": {
    "name": "ipython",
    "version": 3
   },
   "file_extension": ".py",
   "mimetype": "text/x-python",
   "name": "python",
   "nbconvert_exporter": "python",
   "pygments_lexer": "ipython3",
   "version": "3.10.13"
  }
 },
 "nbformat": 4,
 "nbformat_minor": 2
}
